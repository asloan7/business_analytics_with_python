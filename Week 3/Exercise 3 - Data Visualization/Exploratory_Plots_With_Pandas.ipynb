{
  "nbformat": 4,
  "nbformat_minor": 0,
  "metadata": {
    "colab": {
      "provenance": [],
      "toc_visible": true
    },
    "kernelspec": {
      "name": "python3",
      "display_name": "Python 3"
    },
    "language_info": {
      "name": "python"
    }
  },
  "cells": [
    {
      "cell_type": "markdown",
      "source": [
        "# Exploratory Plots With Pandas"
      ],
      "metadata": {
        "id": "uzCCEsdGELty"
      }
    },
    {
      "cell_type": "markdown",
      "source": [
        "## Load packages and sample data"
      ],
      "metadata": {
        "id": "9VymCQjQMqDr"
      }
    },
    {
      "cell_type": "markdown",
      "source": [
        "Most visualizations in this notebook require only the Pandas library. We import seaborn just for the sample dataset."
      ],
      "metadata": {
        "id": "_1iEwWhiZWXy"
      }
    },
    {
      "cell_type": "code",
      "source": [
        "pip install pandas matplotlib seaborn"
      ],
      "metadata": {
        "colab": {
          "base_uri": "https://localhost:8080/"
        },
        "id": "AjS3AFvrD_1V",
        "outputId": "3a351bf3-a782-4d4e-8a22-2788e72d0c60"
      },
      "execution_count": 69,
      "outputs": [
        {
          "output_type": "stream",
          "name": "stdout",
          "text": [
            "Looking in indexes: https://pypi.org/simple, https://us-python.pkg.dev/colab-wheels/public/simple/\n",
            "Requirement already satisfied: pandas in /usr/local/lib/python3.8/dist-packages (1.3.5)\n",
            "Requirement already satisfied: numpy in /usr/local/lib/python3.8/dist-packages (1.21.6)\n",
            "Requirement already satisfied: seaborn in /usr/local/lib/python3.8/dist-packages (0.11.2)\n",
            "Requirement already satisfied: python-dateutil>=2.7.3 in /usr/local/lib/python3.8/dist-packages (from pandas) (2.8.2)\n",
            "Requirement already satisfied: pytz>=2017.3 in /usr/local/lib/python3.8/dist-packages (from pandas) (2022.7.1)\n",
            "Requirement already satisfied: scipy>=1.0 in /usr/local/lib/python3.8/dist-packages (from seaborn) (1.7.3)\n",
            "Requirement already satisfied: matplotlib>=2.2 in /usr/local/lib/python3.8/dist-packages (from seaborn) (3.2.2)\n",
            "Requirement already satisfied: cycler>=0.10 in /usr/local/lib/python3.8/dist-packages (from matplotlib>=2.2->seaborn) (0.11.0)\n",
            "Requirement already satisfied: pyparsing!=2.0.4,!=2.1.2,!=2.1.6,>=2.0.1 in /usr/local/lib/python3.8/dist-packages (from matplotlib>=2.2->seaborn) (3.0.9)\n",
            "Requirement already satisfied: kiwisolver>=1.0.1 in /usr/local/lib/python3.8/dist-packages (from matplotlib>=2.2->seaborn) (1.4.4)\n",
            "Requirement already satisfied: six>=1.5 in /usr/local/lib/python3.8/dist-packages (from python-dateutil>=2.7.3->pandas) (1.15.0)\n"
          ]
        }
      ]
    },
    {
      "cell_type": "code",
      "execution_count": 70,
      "metadata": {
        "id": "69UrnovuDj_E"
      },
      "outputs": [],
      "source": [
        "import pandas as pd\n",
        "import numpy as np\n",
        "import seaborn as sns\n",
        "df = sns.load_dataset(\"mpg\") "
      ]
    },
    {
      "cell_type": "code",
      "source": [
        "df"
      ],
      "metadata": {
        "colab": {
          "base_uri": "https://localhost:8080/",
          "height": 713
        },
        "id": "oFocj9miGwD3",
        "outputId": "c4d0b2cc-f177-47a9-df76-a9f43f67b482"
      },
      "execution_count": 71,
      "outputs": [
        {
          "output_type": "execute_result",
          "data": {
            "text/plain": [
              "      mpg  cylinders  displacement  horsepower  weight  acceleration  \\\n",
              "0    18.0          8         307.0       130.0    3504          12.0   \n",
              "1    15.0          8         350.0       165.0    3693          11.5   \n",
              "2    18.0          8         318.0       150.0    3436          11.0   \n",
              "3    16.0          8         304.0       150.0    3433          12.0   \n",
              "4    17.0          8         302.0       140.0    3449          10.5   \n",
              "..    ...        ...           ...         ...     ...           ...   \n",
              "393  27.0          4         140.0        86.0    2790          15.6   \n",
              "394  44.0          4          97.0        52.0    2130          24.6   \n",
              "395  32.0          4         135.0        84.0    2295          11.6   \n",
              "396  28.0          4         120.0        79.0    2625          18.6   \n",
              "397  31.0          4         119.0        82.0    2720          19.4   \n",
              "\n",
              "     model_year  origin                       name  \n",
              "0            70     usa  chevrolet chevelle malibu  \n",
              "1            70     usa          buick skylark 320  \n",
              "2            70     usa         plymouth satellite  \n",
              "3            70     usa              amc rebel sst  \n",
              "4            70     usa                ford torino  \n",
              "..          ...     ...                        ...  \n",
              "393          82     usa            ford mustang gl  \n",
              "394          82  europe                  vw pickup  \n",
              "395          82     usa              dodge rampage  \n",
              "396          82     usa                ford ranger  \n",
              "397          82     usa                 chevy s-10  \n",
              "\n",
              "[398 rows x 9 columns]"
            ],
            "text/html": [
              "\n",
              "  <div id=\"df-1b4a1232-da1d-4f32-a50d-4264e783c7fb\">\n",
              "    <div class=\"colab-df-container\">\n",
              "      <div>\n",
              "<style scoped>\n",
              "    .dataframe tbody tr th:only-of-type {\n",
              "        vertical-align: middle;\n",
              "    }\n",
              "\n",
              "    .dataframe tbody tr th {\n",
              "        vertical-align: top;\n",
              "    }\n",
              "\n",
              "    .dataframe thead th {\n",
              "        text-align: right;\n",
              "    }\n",
              "</style>\n",
              "<table border=\"1\" class=\"dataframe\">\n",
              "  <thead>\n",
              "    <tr style=\"text-align: right;\">\n",
              "      <th></th>\n",
              "      <th>mpg</th>\n",
              "      <th>cylinders</th>\n",
              "      <th>displacement</th>\n",
              "      <th>horsepower</th>\n",
              "      <th>weight</th>\n",
              "      <th>acceleration</th>\n",
              "      <th>model_year</th>\n",
              "      <th>origin</th>\n",
              "      <th>name</th>\n",
              "    </tr>\n",
              "  </thead>\n",
              "  <tbody>\n",
              "    <tr>\n",
              "      <th>0</th>\n",
              "      <td>18.0</td>\n",
              "      <td>8</td>\n",
              "      <td>307.0</td>\n",
              "      <td>130.0</td>\n",
              "      <td>3504</td>\n",
              "      <td>12.0</td>\n",
              "      <td>70</td>\n",
              "      <td>usa</td>\n",
              "      <td>chevrolet chevelle malibu</td>\n",
              "    </tr>\n",
              "    <tr>\n",
              "      <th>1</th>\n",
              "      <td>15.0</td>\n",
              "      <td>8</td>\n",
              "      <td>350.0</td>\n",
              "      <td>165.0</td>\n",
              "      <td>3693</td>\n",
              "      <td>11.5</td>\n",
              "      <td>70</td>\n",
              "      <td>usa</td>\n",
              "      <td>buick skylark 320</td>\n",
              "    </tr>\n",
              "    <tr>\n",
              "      <th>2</th>\n",
              "      <td>18.0</td>\n",
              "      <td>8</td>\n",
              "      <td>318.0</td>\n",
              "      <td>150.0</td>\n",
              "      <td>3436</td>\n",
              "      <td>11.0</td>\n",
              "      <td>70</td>\n",
              "      <td>usa</td>\n",
              "      <td>plymouth satellite</td>\n",
              "    </tr>\n",
              "    <tr>\n",
              "      <th>3</th>\n",
              "      <td>16.0</td>\n",
              "      <td>8</td>\n",
              "      <td>304.0</td>\n",
              "      <td>150.0</td>\n",
              "      <td>3433</td>\n",
              "      <td>12.0</td>\n",
              "      <td>70</td>\n",
              "      <td>usa</td>\n",
              "      <td>amc rebel sst</td>\n",
              "    </tr>\n",
              "    <tr>\n",
              "      <th>4</th>\n",
              "      <td>17.0</td>\n",
              "      <td>8</td>\n",
              "      <td>302.0</td>\n",
              "      <td>140.0</td>\n",
              "      <td>3449</td>\n",
              "      <td>10.5</td>\n",
              "      <td>70</td>\n",
              "      <td>usa</td>\n",
              "      <td>ford torino</td>\n",
              "    </tr>\n",
              "    <tr>\n",
              "      <th>...</th>\n",
              "      <td>...</td>\n",
              "      <td>...</td>\n",
              "      <td>...</td>\n",
              "      <td>...</td>\n",
              "      <td>...</td>\n",
              "      <td>...</td>\n",
              "      <td>...</td>\n",
              "      <td>...</td>\n",
              "      <td>...</td>\n",
              "    </tr>\n",
              "    <tr>\n",
              "      <th>393</th>\n",
              "      <td>27.0</td>\n",
              "      <td>4</td>\n",
              "      <td>140.0</td>\n",
              "      <td>86.0</td>\n",
              "      <td>2790</td>\n",
              "      <td>15.6</td>\n",
              "      <td>82</td>\n",
              "      <td>usa</td>\n",
              "      <td>ford mustang gl</td>\n",
              "    </tr>\n",
              "    <tr>\n",
              "      <th>394</th>\n",
              "      <td>44.0</td>\n",
              "      <td>4</td>\n",
              "      <td>97.0</td>\n",
              "      <td>52.0</td>\n",
              "      <td>2130</td>\n",
              "      <td>24.6</td>\n",
              "      <td>82</td>\n",
              "      <td>europe</td>\n",
              "      <td>vw pickup</td>\n",
              "    </tr>\n",
              "    <tr>\n",
              "      <th>395</th>\n",
              "      <td>32.0</td>\n",
              "      <td>4</td>\n",
              "      <td>135.0</td>\n",
              "      <td>84.0</td>\n",
              "      <td>2295</td>\n",
              "      <td>11.6</td>\n",
              "      <td>82</td>\n",
              "      <td>usa</td>\n",
              "      <td>dodge rampage</td>\n",
              "    </tr>\n",
              "    <tr>\n",
              "      <th>396</th>\n",
              "      <td>28.0</td>\n",
              "      <td>4</td>\n",
              "      <td>120.0</td>\n",
              "      <td>79.0</td>\n",
              "      <td>2625</td>\n",
              "      <td>18.6</td>\n",
              "      <td>82</td>\n",
              "      <td>usa</td>\n",
              "      <td>ford ranger</td>\n",
              "    </tr>\n",
              "    <tr>\n",
              "      <th>397</th>\n",
              "      <td>31.0</td>\n",
              "      <td>4</td>\n",
              "      <td>119.0</td>\n",
              "      <td>82.0</td>\n",
              "      <td>2720</td>\n",
              "      <td>19.4</td>\n",
              "      <td>82</td>\n",
              "      <td>usa</td>\n",
              "      <td>chevy s-10</td>\n",
              "    </tr>\n",
              "  </tbody>\n",
              "</table>\n",
              "<p>398 rows × 9 columns</p>\n",
              "</div>\n",
              "      <button class=\"colab-df-convert\" onclick=\"convertToInteractive('df-1b4a1232-da1d-4f32-a50d-4264e783c7fb')\"\n",
              "              title=\"Convert this dataframe to an interactive table.\"\n",
              "              style=\"display:none;\">\n",
              "        \n",
              "  <svg xmlns=\"http://www.w3.org/2000/svg\" height=\"24px\"viewBox=\"0 0 24 24\"\n",
              "       width=\"24px\">\n",
              "    <path d=\"M0 0h24v24H0V0z\" fill=\"none\"/>\n",
              "    <path d=\"M18.56 5.44l.94 2.06.94-2.06 2.06-.94-2.06-.94-.94-2.06-.94 2.06-2.06.94zm-11 1L8.5 8.5l.94-2.06 2.06-.94-2.06-.94L8.5 2.5l-.94 2.06-2.06.94zm10 10l.94 2.06.94-2.06 2.06-.94-2.06-.94-.94-2.06-.94 2.06-2.06.94z\"/><path d=\"M17.41 7.96l-1.37-1.37c-.4-.4-.92-.59-1.43-.59-.52 0-1.04.2-1.43.59L10.3 9.45l-7.72 7.72c-.78.78-.78 2.05 0 2.83L4 21.41c.39.39.9.59 1.41.59.51 0 1.02-.2 1.41-.59l7.78-7.78 2.81-2.81c.8-.78.8-2.07 0-2.86zM5.41 20L4 18.59l7.72-7.72 1.47 1.35L5.41 20z\"/>\n",
              "  </svg>\n",
              "      </button>\n",
              "      \n",
              "  <style>\n",
              "    .colab-df-container {\n",
              "      display:flex;\n",
              "      flex-wrap:wrap;\n",
              "      gap: 12px;\n",
              "    }\n",
              "\n",
              "    .colab-df-convert {\n",
              "      background-color: #E8F0FE;\n",
              "      border: none;\n",
              "      border-radius: 50%;\n",
              "      cursor: pointer;\n",
              "      display: none;\n",
              "      fill: #1967D2;\n",
              "      height: 32px;\n",
              "      padding: 0 0 0 0;\n",
              "      width: 32px;\n",
              "    }\n",
              "\n",
              "    .colab-df-convert:hover {\n",
              "      background-color: #E2EBFA;\n",
              "      box-shadow: 0px 1px 2px rgba(60, 64, 67, 0.3), 0px 1px 3px 1px rgba(60, 64, 67, 0.15);\n",
              "      fill: #174EA6;\n",
              "    }\n",
              "\n",
              "    [theme=dark] .colab-df-convert {\n",
              "      background-color: #3B4455;\n",
              "      fill: #D2E3FC;\n",
              "    }\n",
              "\n",
              "    [theme=dark] .colab-df-convert:hover {\n",
              "      background-color: #434B5C;\n",
              "      box-shadow: 0px 1px 3px 1px rgba(0, 0, 0, 0.15);\n",
              "      filter: drop-shadow(0px 1px 2px rgba(0, 0, 0, 0.3));\n",
              "      fill: #FFFFFF;\n",
              "    }\n",
              "  </style>\n",
              "\n",
              "      <script>\n",
              "        const buttonEl =\n",
              "          document.querySelector('#df-1b4a1232-da1d-4f32-a50d-4264e783c7fb button.colab-df-convert');\n",
              "        buttonEl.style.display =\n",
              "          google.colab.kernel.accessAllowed ? 'block' : 'none';\n",
              "\n",
              "        async function convertToInteractive(key) {\n",
              "          const element = document.querySelector('#df-1b4a1232-da1d-4f32-a50d-4264e783c7fb');\n",
              "          const dataTable =\n",
              "            await google.colab.kernel.invokeFunction('convertToInteractive',\n",
              "                                                     [key], {});\n",
              "          if (!dataTable) return;\n",
              "\n",
              "          const docLinkHtml = 'Like what you see? Visit the ' +\n",
              "            '<a target=\"_blank\" href=https://colab.research.google.com/notebooks/data_table.ipynb>data table notebook</a>'\n",
              "            + ' to learn more about interactive tables.';\n",
              "          element.innerHTML = '';\n",
              "          dataTable['output_type'] = 'display_data';\n",
              "          await google.colab.output.renderOutput(dataTable, element);\n",
              "          const docLink = document.createElement('div');\n",
              "          docLink.innerHTML = docLinkHtml;\n",
              "          element.appendChild(docLink);\n",
              "        }\n",
              "      </script>\n",
              "    </div>\n",
              "  </div>\n",
              "  "
            ]
          },
          "metadata": {},
          "execution_count": 71
        }
      ]
    },
    {
      "cell_type": "markdown",
      "source": [
        "Create a new column to get some more categorical data"
      ],
      "metadata": {
        "id": "-90ZLxnDGt06"
      }
    },
    {
      "cell_type": "code",
      "source": [
        "def get_brand_from_name(name_str):\n",
        "  return(name_str.split(\" \")[0])"
      ],
      "metadata": {
        "id": "x48YeMlCGCKA"
      },
      "execution_count": 72,
      "outputs": []
    },
    {
      "cell_type": "code",
      "source": [
        "df['brand'] = df['name'].apply(get_brand_from_name)"
      ],
      "metadata": {
        "id": "cGgFAQrFG-FK"
      },
      "execution_count": 73,
      "outputs": []
    },
    {
      "cell_type": "code",
      "source": [
        "df"
      ],
      "metadata": {
        "colab": {
          "base_uri": "https://localhost:8080/",
          "height": 713
        },
        "id": "73FlmcNDF87Z",
        "outputId": "4cce25e1-43e5-48fa-d528-cfb4d94029d9"
      },
      "execution_count": 74,
      "outputs": [
        {
          "output_type": "execute_result",
          "data": {
            "text/plain": [
              "      mpg  cylinders  displacement  horsepower  weight  acceleration  \\\n",
              "0    18.0          8         307.0       130.0    3504          12.0   \n",
              "1    15.0          8         350.0       165.0    3693          11.5   \n",
              "2    18.0          8         318.0       150.0    3436          11.0   \n",
              "3    16.0          8         304.0       150.0    3433          12.0   \n",
              "4    17.0          8         302.0       140.0    3449          10.5   \n",
              "..    ...        ...           ...         ...     ...           ...   \n",
              "393  27.0          4         140.0        86.0    2790          15.6   \n",
              "394  44.0          4          97.0        52.0    2130          24.6   \n",
              "395  32.0          4         135.0        84.0    2295          11.6   \n",
              "396  28.0          4         120.0        79.0    2625          18.6   \n",
              "397  31.0          4         119.0        82.0    2720          19.4   \n",
              "\n",
              "     model_year  origin                       name      brand  \n",
              "0            70     usa  chevrolet chevelle malibu  chevrolet  \n",
              "1            70     usa          buick skylark 320      buick  \n",
              "2            70     usa         plymouth satellite   plymouth  \n",
              "3            70     usa              amc rebel sst        amc  \n",
              "4            70     usa                ford torino       ford  \n",
              "..          ...     ...                        ...        ...  \n",
              "393          82     usa            ford mustang gl       ford  \n",
              "394          82  europe                  vw pickup         vw  \n",
              "395          82     usa              dodge rampage      dodge  \n",
              "396          82     usa                ford ranger       ford  \n",
              "397          82     usa                 chevy s-10      chevy  \n",
              "\n",
              "[398 rows x 10 columns]"
            ],
            "text/html": [
              "\n",
              "  <div id=\"df-d52ce463-c6cb-47ac-ab47-70873134656f\">\n",
              "    <div class=\"colab-df-container\">\n",
              "      <div>\n",
              "<style scoped>\n",
              "    .dataframe tbody tr th:only-of-type {\n",
              "        vertical-align: middle;\n",
              "    }\n",
              "\n",
              "    .dataframe tbody tr th {\n",
              "        vertical-align: top;\n",
              "    }\n",
              "\n",
              "    .dataframe thead th {\n",
              "        text-align: right;\n",
              "    }\n",
              "</style>\n",
              "<table border=\"1\" class=\"dataframe\">\n",
              "  <thead>\n",
              "    <tr style=\"text-align: right;\">\n",
              "      <th></th>\n",
              "      <th>mpg</th>\n",
              "      <th>cylinders</th>\n",
              "      <th>displacement</th>\n",
              "      <th>horsepower</th>\n",
              "      <th>weight</th>\n",
              "      <th>acceleration</th>\n",
              "      <th>model_year</th>\n",
              "      <th>origin</th>\n",
              "      <th>name</th>\n",
              "      <th>brand</th>\n",
              "    </tr>\n",
              "  </thead>\n",
              "  <tbody>\n",
              "    <tr>\n",
              "      <th>0</th>\n",
              "      <td>18.0</td>\n",
              "      <td>8</td>\n",
              "      <td>307.0</td>\n",
              "      <td>130.0</td>\n",
              "      <td>3504</td>\n",
              "      <td>12.0</td>\n",
              "      <td>70</td>\n",
              "      <td>usa</td>\n",
              "      <td>chevrolet chevelle malibu</td>\n",
              "      <td>chevrolet</td>\n",
              "    </tr>\n",
              "    <tr>\n",
              "      <th>1</th>\n",
              "      <td>15.0</td>\n",
              "      <td>8</td>\n",
              "      <td>350.0</td>\n",
              "      <td>165.0</td>\n",
              "      <td>3693</td>\n",
              "      <td>11.5</td>\n",
              "      <td>70</td>\n",
              "      <td>usa</td>\n",
              "      <td>buick skylark 320</td>\n",
              "      <td>buick</td>\n",
              "    </tr>\n",
              "    <tr>\n",
              "      <th>2</th>\n",
              "      <td>18.0</td>\n",
              "      <td>8</td>\n",
              "      <td>318.0</td>\n",
              "      <td>150.0</td>\n",
              "      <td>3436</td>\n",
              "      <td>11.0</td>\n",
              "      <td>70</td>\n",
              "      <td>usa</td>\n",
              "      <td>plymouth satellite</td>\n",
              "      <td>plymouth</td>\n",
              "    </tr>\n",
              "    <tr>\n",
              "      <th>3</th>\n",
              "      <td>16.0</td>\n",
              "      <td>8</td>\n",
              "      <td>304.0</td>\n",
              "      <td>150.0</td>\n",
              "      <td>3433</td>\n",
              "      <td>12.0</td>\n",
              "      <td>70</td>\n",
              "      <td>usa</td>\n",
              "      <td>amc rebel sst</td>\n",
              "      <td>amc</td>\n",
              "    </tr>\n",
              "    <tr>\n",
              "      <th>4</th>\n",
              "      <td>17.0</td>\n",
              "      <td>8</td>\n",
              "      <td>302.0</td>\n",
              "      <td>140.0</td>\n",
              "      <td>3449</td>\n",
              "      <td>10.5</td>\n",
              "      <td>70</td>\n",
              "      <td>usa</td>\n",
              "      <td>ford torino</td>\n",
              "      <td>ford</td>\n",
              "    </tr>\n",
              "    <tr>\n",
              "      <th>...</th>\n",
              "      <td>...</td>\n",
              "      <td>...</td>\n",
              "      <td>...</td>\n",
              "      <td>...</td>\n",
              "      <td>...</td>\n",
              "      <td>...</td>\n",
              "      <td>...</td>\n",
              "      <td>...</td>\n",
              "      <td>...</td>\n",
              "      <td>...</td>\n",
              "    </tr>\n",
              "    <tr>\n",
              "      <th>393</th>\n",
              "      <td>27.0</td>\n",
              "      <td>4</td>\n",
              "      <td>140.0</td>\n",
              "      <td>86.0</td>\n",
              "      <td>2790</td>\n",
              "      <td>15.6</td>\n",
              "      <td>82</td>\n",
              "      <td>usa</td>\n",
              "      <td>ford mustang gl</td>\n",
              "      <td>ford</td>\n",
              "    </tr>\n",
              "    <tr>\n",
              "      <th>394</th>\n",
              "      <td>44.0</td>\n",
              "      <td>4</td>\n",
              "      <td>97.0</td>\n",
              "      <td>52.0</td>\n",
              "      <td>2130</td>\n",
              "      <td>24.6</td>\n",
              "      <td>82</td>\n",
              "      <td>europe</td>\n",
              "      <td>vw pickup</td>\n",
              "      <td>vw</td>\n",
              "    </tr>\n",
              "    <tr>\n",
              "      <th>395</th>\n",
              "      <td>32.0</td>\n",
              "      <td>4</td>\n",
              "      <td>135.0</td>\n",
              "      <td>84.0</td>\n",
              "      <td>2295</td>\n",
              "      <td>11.6</td>\n",
              "      <td>82</td>\n",
              "      <td>usa</td>\n",
              "      <td>dodge rampage</td>\n",
              "      <td>dodge</td>\n",
              "    </tr>\n",
              "    <tr>\n",
              "      <th>396</th>\n",
              "      <td>28.0</td>\n",
              "      <td>4</td>\n",
              "      <td>120.0</td>\n",
              "      <td>79.0</td>\n",
              "      <td>2625</td>\n",
              "      <td>18.6</td>\n",
              "      <td>82</td>\n",
              "      <td>usa</td>\n",
              "      <td>ford ranger</td>\n",
              "      <td>ford</td>\n",
              "    </tr>\n",
              "    <tr>\n",
              "      <th>397</th>\n",
              "      <td>31.0</td>\n",
              "      <td>4</td>\n",
              "      <td>119.0</td>\n",
              "      <td>82.0</td>\n",
              "      <td>2720</td>\n",
              "      <td>19.4</td>\n",
              "      <td>82</td>\n",
              "      <td>usa</td>\n",
              "      <td>chevy s-10</td>\n",
              "      <td>chevy</td>\n",
              "    </tr>\n",
              "  </tbody>\n",
              "</table>\n",
              "<p>398 rows × 10 columns</p>\n",
              "</div>\n",
              "      <button class=\"colab-df-convert\" onclick=\"convertToInteractive('df-d52ce463-c6cb-47ac-ab47-70873134656f')\"\n",
              "              title=\"Convert this dataframe to an interactive table.\"\n",
              "              style=\"display:none;\">\n",
              "        \n",
              "  <svg xmlns=\"http://www.w3.org/2000/svg\" height=\"24px\"viewBox=\"0 0 24 24\"\n",
              "       width=\"24px\">\n",
              "    <path d=\"M0 0h24v24H0V0z\" fill=\"none\"/>\n",
              "    <path d=\"M18.56 5.44l.94 2.06.94-2.06 2.06-.94-2.06-.94-.94-2.06-.94 2.06-2.06.94zm-11 1L8.5 8.5l.94-2.06 2.06-.94-2.06-.94L8.5 2.5l-.94 2.06-2.06.94zm10 10l.94 2.06.94-2.06 2.06-.94-2.06-.94-.94-2.06-.94 2.06-2.06.94z\"/><path d=\"M17.41 7.96l-1.37-1.37c-.4-.4-.92-.59-1.43-.59-.52 0-1.04.2-1.43.59L10.3 9.45l-7.72 7.72c-.78.78-.78 2.05 0 2.83L4 21.41c.39.39.9.59 1.41.59.51 0 1.02-.2 1.41-.59l7.78-7.78 2.81-2.81c.8-.78.8-2.07 0-2.86zM5.41 20L4 18.59l7.72-7.72 1.47 1.35L5.41 20z\"/>\n",
              "  </svg>\n",
              "      </button>\n",
              "      \n",
              "  <style>\n",
              "    .colab-df-container {\n",
              "      display:flex;\n",
              "      flex-wrap:wrap;\n",
              "      gap: 12px;\n",
              "    }\n",
              "\n",
              "    .colab-df-convert {\n",
              "      background-color: #E8F0FE;\n",
              "      border: none;\n",
              "      border-radius: 50%;\n",
              "      cursor: pointer;\n",
              "      display: none;\n",
              "      fill: #1967D2;\n",
              "      height: 32px;\n",
              "      padding: 0 0 0 0;\n",
              "      width: 32px;\n",
              "    }\n",
              "\n",
              "    .colab-df-convert:hover {\n",
              "      background-color: #E2EBFA;\n",
              "      box-shadow: 0px 1px 2px rgba(60, 64, 67, 0.3), 0px 1px 3px 1px rgba(60, 64, 67, 0.15);\n",
              "      fill: #174EA6;\n",
              "    }\n",
              "\n",
              "    [theme=dark] .colab-df-convert {\n",
              "      background-color: #3B4455;\n",
              "      fill: #D2E3FC;\n",
              "    }\n",
              "\n",
              "    [theme=dark] .colab-df-convert:hover {\n",
              "      background-color: #434B5C;\n",
              "      box-shadow: 0px 1px 3px 1px rgba(0, 0, 0, 0.15);\n",
              "      filter: drop-shadow(0px 1px 2px rgba(0, 0, 0, 0.3));\n",
              "      fill: #FFFFFF;\n",
              "    }\n",
              "  </style>\n",
              "\n",
              "      <script>\n",
              "        const buttonEl =\n",
              "          document.querySelector('#df-d52ce463-c6cb-47ac-ab47-70873134656f button.colab-df-convert');\n",
              "        buttonEl.style.display =\n",
              "          google.colab.kernel.accessAllowed ? 'block' : 'none';\n",
              "\n",
              "        async function convertToInteractive(key) {\n",
              "          const element = document.querySelector('#df-d52ce463-c6cb-47ac-ab47-70873134656f');\n",
              "          const dataTable =\n",
              "            await google.colab.kernel.invokeFunction('convertToInteractive',\n",
              "                                                     [key], {});\n",
              "          if (!dataTable) return;\n",
              "\n",
              "          const docLinkHtml = 'Like what you see? Visit the ' +\n",
              "            '<a target=\"_blank\" href=https://colab.research.google.com/notebooks/data_table.ipynb>data table notebook</a>'\n",
              "            + ' to learn more about interactive tables.';\n",
              "          element.innerHTML = '';\n",
              "          dataTable['output_type'] = 'display_data';\n",
              "          await google.colab.output.renderOutput(dataTable, element);\n",
              "          const docLink = document.createElement('div');\n",
              "          docLink.innerHTML = docLinkHtml;\n",
              "          element.appendChild(docLink);\n",
              "        }\n",
              "      </script>\n",
              "    </div>\n",
              "  </div>\n",
              "  "
            ]
          },
          "metadata": {},
          "execution_count": 74
        }
      ]
    },
    {
      "cell_type": "markdown",
      "source": [
        "## Distributions"
      ],
      "metadata": {
        "id": "GpFDl5fK-UWx"
      }
    },
    {
      "cell_type": "markdown",
      "source": [
        "### Categorical data"
      ],
      "metadata": {
        "id": "4zgREqiO-WRB"
      }
    },
    {
      "cell_type": "markdown",
      "source": [
        "Absolute Frequency plot"
      ],
      "metadata": {
        "id": "IvlpwSZ6M4vB"
      }
    },
    {
      "cell_type": "code",
      "source": [
        "# https://pandas.pydata.org/docs/reference/api/pandas.Series.plot.bar.html\n",
        "df['origin'].value_counts().plot.bar(rot = 45)"
      ],
      "metadata": {
        "colab": {
          "base_uri": "https://localhost:8080/",
          "height": 304
        },
        "id": "nRYFyT7pEsZL",
        "outputId": "2f073ac8-0074-4c65-9067-5dcecc54c625"
      },
      "execution_count": 75,
      "outputs": [
        {
          "output_type": "execute_result",
          "data": {
            "text/plain": [
              "<matplotlib.axes._subplots.AxesSubplot at 0x7f76053520d0>"
            ]
          },
          "metadata": {},
          "execution_count": 75
        },
        {
          "output_type": "display_data",
          "data": {
            "text/plain": [
              "<Figure size 432x288 with 1 Axes>"
            ],
            "image/png": "[encoded data removed]"
          },
          "metadata": {
            "needs_background": "light"
          }
        }
      ]
    },
    {
      "cell_type": "markdown",
      "source": [
        "Relative frequency plot"
      ],
      "metadata": {
        "id": "WNGmk53lW-sz"
      }
    },
    {
      "cell_type": "code",
      "source": [
        "df['origin'].value_counts(normalize = True).plot.bar(rot = 45)"
      ],
      "metadata": {
        "colab": {
          "base_uri": "https://localhost:8080/",
          "height": 304
        },
        "id": "vA3bPkjCW9ke",
        "outputId": "9d2dcfda-1f22-4e9e-ac53-d30e74019cef"
      },
      "execution_count": 76,
      "outputs": [
        {
          "output_type": "execute_result",
          "data": {
            "text/plain": [
              "<matplotlib.axes._subplots.AxesSubplot at 0x7f76052fc2e0>"
            ]
          },
          "metadata": {},
          "execution_count": 76
        },
        {
          "output_type": "display_data",
          "data": {
            "text/plain": [
              "<Figure size 432x288 with 1 Axes>"
            ],
            "image/png": "[encoded data removed]"
          },
          "metadata": {
            "needs_background": "light"
          }
        }
      ]
    },
    {
      "cell_type": "markdown",
      "source": [
        "(horizontal version)"
      ],
      "metadata": {
        "id": "oUaOqIibM-TT"
      }
    },
    {
      "cell_type": "code",
      "source": [
        "# https://pandas.pydata.org/docs/reference/api/pandas.DataFrame.plot.barh.html\n",
        "df['origin'].value_counts().plot.barh()"
      ],
      "metadata": {
        "colab": {
          "base_uri": "https://localhost:8080/",
          "height": 282
        },
        "id": "ShrzBxRDM__u",
        "outputId": "5e9ab751-b054-4da3-b484-2bc83a800036"
      },
      "execution_count": 77,
      "outputs": [
        {
          "output_type": "execute_result",
          "data": {
            "text/plain": [
              "<matplotlib.axes._subplots.AxesSubplot at 0x7f7605227e50>"
            ]
          },
          "metadata": {},
          "execution_count": 77
        },
        {
          "output_type": "display_data",
          "data": {
            "text/plain": [
              "<Figure size 432x288 with 1 Axes>"
            ],
            "image/png": "[encoded data removed]"
          },
          "metadata": {
            "needs_background": "light"
          }
        }
      ]
    },
    {
      "cell_type": "markdown",
      "source": [
        "Multidimensional frequency table\n",
        "(simple heatmap)"
      ],
      "metadata": {
        "id": "MbUHjCbaY5MJ"
      }
    },
    {
      "cell_type": "code",
      "source": [
        "pd.pivot_table(df, index = [\"origin\", \"brand\"], values = [\"name\"], aggfunc = \"nunique\").style.background_gradient(cmap='Blues')"
      ],
      "metadata": {
        "colab": {
          "base_uri": "https://localhost:8080/",
          "height": 1000
        },
        "id": "cN-EsBVEHZRW",
        "outputId": "856cd1df-dd22-4b8a-c23d-469196a337b1"
      },
      "execution_count": 78,
      "outputs": [
        {
          "output_type": "execute_result",
          "data": {
            "text/plain": [
              "<pandas.io.formats.style.Styler at 0x7f76053d3280>"
            ],
            "text/html": [
              "<style type=\"text/css\">\n",
              "#T_909dc_row0_col0, #T_909dc_row12_col0, #T_909dc_row29_col0 {\n",
              "  background-color: #dae8f6;\n",
              "  color: #000000;\n",
              "}\n",
              "#T_909dc_row1_col0, #T_909dc_row4_col0, #T_909dc_row5_col0, #T_909dc_row16_col0, #T_909dc_row19_col0, #T_909dc_row24_col0 {\n",
              "  background-color: #f2f7fd;\n",
              "  color: #000000;\n",
              "}\n",
              "#T_909dc_row2_col0 {\n",
              "  background-color: #d4e4f4;\n",
              "  color: #000000;\n",
              "}\n",
              "#T_909dc_row3_col0, #T_909dc_row9_col0, #T_909dc_row10_col0, #T_909dc_row18_col0, #T_909dc_row21_col0, #T_909dc_row25_col0, #T_909dc_row26_col0, #T_909dc_row32_col0 {\n",
              "  background-color: #f7fbff;\n",
              "  color: #000000;\n",
              "}\n",
              "#T_909dc_row6_col0, #T_909dc_row7_col0, #T_909dc_row13_col0 {\n",
              "  background-color: #dfecf7;\n",
              "  color: #000000;\n",
              "}\n",
              "#T_909dc_row8_col0, #T_909dc_row28_col0 {\n",
              "  background-color: #ebf3fb;\n",
              "  color: #000000;\n",
              "}\n",
              "#T_909dc_row11_col0 {\n",
              "  background-color: #afd1e7;\n",
              "  color: #000000;\n",
              "}\n",
              "#T_909dc_row14_col0 {\n",
              "  background-color: #57a0ce;\n",
              "  color: #f1f1f1;\n",
              "}\n",
              "#T_909dc_row15_col0, #T_909dc_row17_col0, #T_909dc_row34_col0 {\n",
              "  background-color: #c9ddf0;\n",
              "  color: #000000;\n",
              "}\n",
              "#T_909dc_row20_col0, #T_909dc_row22_col0 {\n",
              "  background-color: #84bcdb;\n",
              "  color: #000000;\n",
              "}\n",
              "#T_909dc_row23_col0 {\n",
              "  background-color: #9cc9e1;\n",
              "  color: #000000;\n",
              "}\n",
              "#T_909dc_row27_col0, #T_909dc_row30_col0, #T_909dc_row35_col0 {\n",
              "  background-color: #2d7dbb;\n",
              "  color: #f1f1f1;\n",
              "}\n",
              "#T_909dc_row31_col0 {\n",
              "  background-color: #08306b;\n",
              "  color: #f1f1f1;\n",
              "}\n",
              "#T_909dc_row33_col0 {\n",
              "  background-color: #b8d5ea;\n",
              "  color: #000000;\n",
              "}\n",
              "#T_909dc_row36_col0 {\n",
              "  background-color: #a5cde3;\n",
              "  color: #000000;\n",
              "}\n",
              "</style>\n",
              "<table id=\"T_909dc_\" class=\"dataframe\">\n",
              "  <thead>\n",
              "    <tr>\n",
              "      <th class=\"blank\" >&nbsp;</th>\n",
              "      <th class=\"blank level0\" >&nbsp;</th>\n",
              "      <th class=\"col_heading level0 col0\" >name</th>\n",
              "    </tr>\n",
              "    <tr>\n",
              "      <th class=\"index_name level0\" >origin</th>\n",
              "      <th class=\"index_name level1\" >brand</th>\n",
              "      <th class=\"blank col0\" >&nbsp;</th>\n",
              "    </tr>\n",
              "  </thead>\n",
              "  <tbody>\n",
              "    <tr>\n",
              "      <th id=\"T_909dc_level0_row0\" class=\"row_heading level0 row0\" rowspan=\"14\">europe</th>\n",
              "      <th id=\"T_909dc_level1_row0\" class=\"row_heading level1 row0\" >audi</th>\n",
              "      <td id=\"T_909dc_row0_col0\" class=\"data row0 col0\" >6</td>\n",
              "    </tr>\n",
              "    <tr>\n",
              "      <th id=\"T_909dc_level1_row1\" class=\"row_heading level1 row1\" >bmw</th>\n",
              "      <td id=\"T_909dc_row1_col0\" class=\"data row1 col0\" >2</td>\n",
              "    </tr>\n",
              "    <tr>\n",
              "      <th id=\"T_909dc_level1_row2\" class=\"row_heading level1 row2\" >fiat</th>\n",
              "      <td id=\"T_909dc_row2_col0\" class=\"data row2 col0\" >7</td>\n",
              "    </tr>\n",
              "    <tr>\n",
              "      <th id=\"T_909dc_level1_row3\" class=\"row_heading level1 row3\" >mercedes</th>\n",
              "      <td id=\"T_909dc_row3_col0\" class=\"data row3 col0\" >1</td>\n",
              "    </tr>\n",
              "    <tr>\n",
              "      <th id=\"T_909dc_level1_row4\" class=\"row_heading level1 row4\" >mercedes-benz</th>\n",
              "      <td id=\"T_909dc_row4_col0\" class=\"data row4 col0\" >2</td>\n",
              "    </tr>\n",
              "    <tr>\n",
              "      <th id=\"T_909dc_level1_row5\" class=\"row_heading level1 row5\" >opel</th>\n",
              "      <td id=\"T_909dc_row5_col0\" class=\"data row5 col0\" >2</td>\n",
              "    </tr>\n",
              "    <tr>\n",
              "      <th id=\"T_909dc_level1_row6\" class=\"row_heading level1 row6\" >peugeot</th>\n",
              "      <td id=\"T_909dc_row6_col0\" class=\"data row6 col0\" >5</td>\n",
              "    </tr>\n",
              "    <tr>\n",
              "      <th id=\"T_909dc_level1_row7\" class=\"row_heading level1 row7\" >renault</th>\n",
              "      <td id=\"T_909dc_row7_col0\" class=\"data row7 col0\" >5</td>\n",
              "    </tr>\n",
              "    <tr>\n",
              "      <th id=\"T_909dc_level1_row8\" class=\"row_heading level1 row8\" >saab</th>\n",
              "      <td id=\"T_909dc_row8_col0\" class=\"data row8 col0\" >3</td>\n",
              "    </tr>\n",
              "    <tr>\n",
              "      <th id=\"T_909dc_level1_row9\" class=\"row_heading level1 row9\" >triumph</th>\n",
              "      <td id=\"T_909dc_row9_col0\" class=\"data row9 col0\" >1</td>\n",
              "    </tr>\n",
              "    <tr>\n",
              "      <th id=\"T_909dc_level1_row10\" class=\"row_heading level1 row10\" >vokswagen</th>\n",
              "      <td id=\"T_909dc_row10_col0\" class=\"data row10 col0\" >1</td>\n",
              "    </tr>\n",
              "    <tr>\n",
              "      <th id=\"T_909dc_level1_row11\" class=\"row_heading level1 row11\" >volkswagen</th>\n",
              "      <td id=\"T_909dc_row11_col0\" class=\"data row11 col0\" >12</td>\n",
              "    </tr>\n",
              "    <tr>\n",
              "      <th id=\"T_909dc_level1_row12\" class=\"row_heading level1 row12\" >volvo</th>\n",
              "      <td id=\"T_909dc_row12_col0\" class=\"data row12 col0\" >6</td>\n",
              "    </tr>\n",
              "    <tr>\n",
              "      <th id=\"T_909dc_level1_row13\" class=\"row_heading level1 row13\" >vw</th>\n",
              "      <td id=\"T_909dc_row13_col0\" class=\"data row13 col0\" >5</td>\n",
              "    </tr>\n",
              "    <tr>\n",
              "      <th id=\"T_909dc_level0_row14\" class=\"row_heading level0 row14\" rowspan=\"8\">japan</th>\n",
              "      <th id=\"T_909dc_level1_row14\" class=\"row_heading level1 row14\" >datsun</th>\n",
              "      <td id=\"T_909dc_row14_col0\" class=\"data row14 col0\" >20</td>\n",
              "    </tr>\n",
              "    <tr>\n",
              "      <th id=\"T_909dc_level1_row15\" class=\"row_heading level1 row15\" >honda</th>\n",
              "      <td id=\"T_909dc_row15_col0\" class=\"data row15 col0\" >9</td>\n",
              "    </tr>\n",
              "    <tr>\n",
              "      <th id=\"T_909dc_level1_row16\" class=\"row_heading level1 row16\" >maxda</th>\n",
              "      <td id=\"T_909dc_row16_col0\" class=\"data row16 col0\" >2</td>\n",
              "    </tr>\n",
              "    <tr>\n",
              "      <th id=\"T_909dc_level1_row17\" class=\"row_heading level1 row17\" >mazda</th>\n",
              "      <td id=\"T_909dc_row17_col0\" class=\"data row17 col0\" >9</td>\n",
              "    </tr>\n",
              "    <tr>\n",
              "      <th id=\"T_909dc_level1_row18\" class=\"row_heading level1 row18\" >nissan</th>\n",
              "      <td id=\"T_909dc_row18_col0\" class=\"data row18 col0\" >1</td>\n",
              "    </tr>\n",
              "    <tr>\n",
              "      <th id=\"T_909dc_level1_row19\" class=\"row_heading level1 row19\" >subaru</th>\n",
              "      <td id=\"T_909dc_row19_col0\" class=\"data row19 col0\" >2</td>\n",
              "    </tr>\n",
              "    <tr>\n",
              "      <th id=\"T_909dc_level1_row20\" class=\"row_heading level1 row20\" >toyota</th>\n",
              "      <td id=\"T_909dc_row20_col0\" class=\"data row20 col0\" >16</td>\n",
              "    </tr>\n",
              "    <tr>\n",
              "      <th id=\"T_909dc_level1_row21\" class=\"row_heading level1 row21\" >toyouta</th>\n",
              "      <td id=\"T_909dc_row21_col0\" class=\"data row21 col0\" >1</td>\n",
              "    </tr>\n",
              "    <tr>\n",
              "      <th id=\"T_909dc_level0_row22\" class=\"row_heading level0 row22\" rowspan=\"15\">usa</th>\n",
              "      <th id=\"T_909dc_level1_row22\" class=\"row_heading level1 row22\" >amc</th>\n",
              "      <td id=\"T_909dc_row22_col0\" class=\"data row22 col0\" >16</td>\n",
              "    </tr>\n",
              "    <tr>\n",
              "      <th id=\"T_909dc_level1_row23\" class=\"row_heading level1 row23\" >buick</th>\n",
              "      <td id=\"T_909dc_row23_col0\" class=\"data row23 col0\" >14</td>\n",
              "    </tr>\n",
              "    <tr>\n",
              "      <th id=\"T_909dc_level1_row24\" class=\"row_heading level1 row24\" >cadillac</th>\n",
              "      <td id=\"T_909dc_row24_col0\" class=\"data row24 col0\" >2</td>\n",
              "    </tr>\n",
              "    <tr>\n",
              "      <th id=\"T_909dc_level1_row25\" class=\"row_heading level1 row25\" >capri</th>\n",
              "      <td id=\"T_909dc_row25_col0\" class=\"data row25 col0\" >1</td>\n",
              "    </tr>\n",
              "    <tr>\n",
              "      <th id=\"T_909dc_level1_row26\" class=\"row_heading level1 row26\" >chevroelt</th>\n",
              "      <td id=\"T_909dc_row26_col0\" class=\"data row26 col0\" >1</td>\n",
              "    </tr>\n",
              "    <tr>\n",
              "      <th id=\"T_909dc_level1_row27\" class=\"row_heading level1 row27\" >chevrolet</th>\n",
              "      <td id=\"T_909dc_row27_col0\" class=\"data row27 col0\" >25</td>\n",
              "    </tr>\n",
              "    <tr>\n",
              "      <th id=\"T_909dc_level1_row28\" class=\"row_heading level1 row28\" >chevy</th>\n",
              "      <td id=\"T_909dc_row28_col0\" class=\"data row28 col0\" >3</td>\n",
              "    </tr>\n",
              "    <tr>\n",
              "      <th id=\"T_909dc_level1_row29\" class=\"row_heading level1 row29\" >chrysler</th>\n",
              "      <td id=\"T_909dc_row29_col0\" class=\"data row29 col0\" >6</td>\n",
              "    </tr>\n",
              "    <tr>\n",
              "      <th id=\"T_909dc_level1_row30\" class=\"row_heading level1 row30\" >dodge</th>\n",
              "      <td id=\"T_909dc_row30_col0\" class=\"data row30 col0\" >25</td>\n",
              "    </tr>\n",
              "    <tr>\n",
              "      <th id=\"T_909dc_level1_row31\" class=\"row_heading level1 row31\" >ford</th>\n",
              "      <td id=\"T_909dc_row31_col0\" class=\"data row31 col0\" >35</td>\n",
              "    </tr>\n",
              "    <tr>\n",
              "      <th id=\"T_909dc_level1_row32\" class=\"row_heading level1 row32\" >hi</th>\n",
              "      <td id=\"T_909dc_row32_col0\" class=\"data row32 col0\" >1</td>\n",
              "    </tr>\n",
              "    <tr>\n",
              "      <th id=\"T_909dc_level1_row33\" class=\"row_heading level1 row33\" >mercury</th>\n",
              "      <td id=\"T_909dc_row33_col0\" class=\"data row33 col0\" >11</td>\n",
              "    </tr>\n",
              "    <tr>\n",
              "      <th id=\"T_909dc_level1_row34\" class=\"row_heading level1 row34\" >oldsmobile</th>\n",
              "      <td id=\"T_909dc_row34_col0\" class=\"data row34 col0\" >9</td>\n",
              "    </tr>\n",
              "    <tr>\n",
              "      <th id=\"T_909dc_level1_row35\" class=\"row_heading level1 row35\" >plymouth</th>\n",
              "      <td id=\"T_909dc_row35_col0\" class=\"data row35 col0\" >25</td>\n",
              "    </tr>\n",
              "    <tr>\n",
              "      <th id=\"T_909dc_level1_row36\" class=\"row_heading level1 row36\" >pontiac</th>\n",
              "      <td id=\"T_909dc_row36_col0\" class=\"data row36 col0\" >13</td>\n",
              "    </tr>\n",
              "  </tbody>\n",
              "</table>\n"
            ]
          },
          "metadata": {},
          "execution_count": 78
        }
      ]
    },
    {
      "cell_type": "markdown",
      "source": [
        "### Numeric"
      ],
      "metadata": {
        "id": "Lnm0Jy93-Yed"
      }
    },
    {
      "cell_type": "code",
      "source": [
        "# https://pandas.pydata.org/docs/reference/api/pandas.DataFrame.hist.html\n",
        "df['mpg'].plot.hist(bins = 20)"
      ],
      "metadata": {
        "colab": {
          "base_uri": "https://localhost:8080/",
          "height": 282
        },
        "id": "WmZpqDjj1PDb",
        "outputId": "3b8084d3-d5a6-4aef-a055-e6f6d21478f9"
      },
      "execution_count": 79,
      "outputs": [
        {
          "output_type": "execute_result",
          "data": {
            "text/plain": [
              "<matplotlib.axes._subplots.AxesSubplot at 0x7f7605e65580>"
            ]
          },
          "metadata": {},
          "execution_count": 79
        },
        {
          "output_type": "display_data",
          "data": {
            "text/plain": [
              "<Figure size 432x288 with 1 Axes>"
            ],
            "image/png": "[encoded data removed]"
          },
          "metadata": {
            "needs_background": "light"
          }
        }
      ]
    },
    {
      "cell_type": "code",
      "source": [
        "#https://pandas.pydata.org/docs/reference/api/pandas.DataFrame.plot.box.html\n",
        "df['mpg'].plot.box()"
      ],
      "metadata": {
        "colab": {
          "base_uri": "https://localhost:8080/",
          "height": 282
        },
        "id": "SOthxM6p1bMh",
        "outputId": "30bc886e-5382-4fc7-8140-8ba4fc5fcbf5"
      },
      "execution_count": 80,
      "outputs": [
        {
          "output_type": "execute_result",
          "data": {
            "text/plain": [
              "<matplotlib.axes._subplots.AxesSubplot at 0x7f760599d400>"
            ]
          },
          "metadata": {},
          "execution_count": 80
        },
        {
          "output_type": "display_data",
          "data": {
            "text/plain": [
              "<Figure size 432x288 with 1 Axes>"
            ],
            "image/png": "[encoded data removed]"
          },
          "metadata": {
            "needs_background": "light"
          }
        }
      ]
    },
    {
      "cell_type": "markdown",
      "source": [
        "## Comparisons"
      ],
      "metadata": {
        "id": "KuNZwd0D-Zrp"
      }
    },
    {
      "cell_type": "markdown",
      "source": [
        "### Single numeric variable by category"
      ],
      "metadata": {
        "id": "hk4b3w7pNtI_"
      }
    },
    {
      "cell_type": "markdown",
      "source": [
        "Barchart"
      ],
      "metadata": {
        "id": "IE6yi1XDRfzX"
      }
    },
    {
      "cell_type": "code",
      "source": [
        "(pd\n",
        " .pivot_table(data = df, index = [\"origin\"], values = ['horsepower'], aggfunc = 'mean' )\n",
        " .sort_values(\"horsepower\", ascending = False)\n",
        " .plot\n",
        " .bar())"
      ],
      "metadata": {
        "colab": {
          "base_uri": "https://localhost:8080/",
          "height": 321
        },
        "id": "Stotq60PK0XG",
        "outputId": "31721c11-3956-42c9-aa28-2c24743e038c"
      },
      "execution_count": 81,
      "outputs": [
        {
          "output_type": "execute_result",
          "data": {
            "text/plain": [
              "<matplotlib.axes._subplots.AxesSubplot at 0x7f76055b7fd0>"
            ]
          },
          "metadata": {},
          "execution_count": 81
        },
        {
          "output_type": "display_data",
          "data": {
            "text/plain": [
              "<Figure size 432x288 with 1 Axes>"
            ],
            "image/png": "[encoded data removed]"
          },
          "metadata": {
            "needs_background": "light"
          }
        }
      ]
    },
    {
      "cell_type": "markdown",
      "source": [
        "Boxplots"
      ],
      "metadata": {
        "id": "6qdVBeUNSNXo"
      }
    },
    {
      "cell_type": "code",
      "source": [
        "pivot = pd.pivot_table(df, index = df.index, values = 'horsepower', columns = \"origin\")\n",
        "pivot.plot.box();"
      ],
      "metadata": {
        "colab": {
          "base_uri": "https://localhost:8080/",
          "height": 320
        },
        "id": "ufpU0vwC6GXn",
        "outputId": "c968e8d8-9d79-4048-9251-acc2328ea0aa"
      },
      "execution_count": 82,
      "outputs": [
        {
          "output_type": "stream",
          "name": "stderr",
          "text": [
            "/usr/local/lib/python3.8/dist-packages/matplotlib/cbook/__init__.py:1376: VisibleDeprecationWarning: Creating an ndarray from ragged nested sequences (which is a list-or-tuple of lists-or-tuples-or ndarrays with different lengths or shapes) is deprecated. If you meant to do this, you must specify 'dtype=object' when creating the ndarray.\n",
            "  X = np.atleast_1d(X.T if isinstance(X, np.ndarray) else np.asarray(X))\n"
          ]
        },
        {
          "output_type": "display_data",
          "data": {
            "text/plain": [
              "<Figure size 432x288 with 1 Axes>"
            ],
            "image/png": "[encoded data removed]"
          },
          "metadata": {
            "needs_background": "light"
          }
        }
      ]
    },
    {
      "cell_type": "markdown",
      "source": [
        "Horizontal Barchart \n",
        "\n",
        "For lots of categories / categories with long names"
      ],
      "metadata": {
        "id": "F4mwQpcGRiA_"
      }
    },
    {
      "cell_type": "code",
      "source": [
        "(pd\n",
        " .pivot_table(data = df, index = [\"brand\"], values = ['horsepower'], aggfunc = 'mean' )\n",
        " .sort_values(\"horsepower\", ascending = False)\n",
        " .plot\n",
        " .barh(figsize = (8, 8)))"
      ],
      "metadata": {
        "colab": {
          "base_uri": "https://localhost:8080/",
          "height": 500
        },
        "id": "ez8OdkjZNu0W",
        "outputId": "3ef02360-ccbd-433c-cc26-e7fffdbbeec4"
      },
      "execution_count": 83,
      "outputs": [
        {
          "output_type": "execute_result",
          "data": {
            "text/plain": [
              "<matplotlib.axes._subplots.AxesSubplot at 0x7f7605965850>"
            ]
          },
          "metadata": {},
          "execution_count": 83
        },
        {
          "output_type": "display_data",
          "data": {
            "text/plain": [
              "<Figure size 576x576 with 1 Axes>"
            ],
            "image/png": "[encoded data removed]"
          },
          "metadata": {
            "needs_background": "light"
          }
        }
      ]
    },
    {
      "cell_type": "markdown",
      "source": [
        "### Multiple numeric variables by category"
      ],
      "metadata": {
        "id": "xVuv3a74OiWH"
      }
    },
    {
      "cell_type": "markdown",
      "source": [
        "Multi Barcharts"
      ],
      "metadata": {
        "id": "33LHNb5VR9T1"
      }
    },
    {
      "cell_type": "code",
      "source": [
        "(pd\n",
        " .pivot_table(data = df, index = [\"origin\"], values = ['horsepower', 'mpg'], aggfunc = 'mean' )\n",
        " .plot\n",
        " .bar(stacked = False))"
      ],
      "metadata": {
        "colab": {
          "base_uri": "https://localhost:8080/",
          "height": 321
        },
        "id": "M6MbtcX5OiIE",
        "outputId": "c25f33e1-8b28-4e51-f683-d1ceb069ecde"
      },
      "execution_count": 84,
      "outputs": [
        {
          "output_type": "execute_result",
          "data": {
            "text/plain": [
              "<matplotlib.axes._subplots.AxesSubplot at 0x7f7605f103a0>"
            ]
          },
          "metadata": {},
          "execution_count": 84
        },
        {
          "output_type": "display_data",
          "data": {
            "text/plain": [
              "<Figure size 432x288 with 1 Axes>"
            ],
            "image/png": "[encoded data removed]"
          },
          "metadata": {
            "needs_background": "light"
          }
        }
      ]
    },
    {
      "cell_type": "markdown",
      "source": [
        "### Category breakdown"
      ],
      "metadata": {
        "id": "W3G-QQyUSl0s"
      }
    },
    {
      "cell_type": "markdown",
      "source": [
        "Stacked Barcharts"
      ],
      "metadata": {
        "id": "tCqK-TFjSA00"
      }
    },
    {
      "cell_type": "code",
      "source": [
        "pd.pivot_table(df.query(\"model_year == 80\"), index = ['origin'], columns = 'brand', values = \"name\", aggfunc = 'nunique').plot.bar(stacked = True).legend(loc='center left', bbox_to_anchor=(1.0, 0.5))"
      ],
      "metadata": {
        "colab": {
          "base_uri": "https://localhost:8080/",
          "height": 326
        },
        "id": "d9AfG73cQQWr",
        "outputId": "f5f8382a-b0d9-4bc2-c4c0-1217a0420dac"
      },
      "execution_count": 85,
      "outputs": [
        {
          "output_type": "execute_result",
          "data": {
            "text/plain": [
              "<matplotlib.legend.Legend at 0x7f76055b7a00>"
            ]
          },
          "metadata": {},
          "execution_count": 85
        },
        {
          "output_type": "display_data",
          "data": {
            "text/plain": [
              "<Figure size 432x288 with 1 Axes>"
            ],
            "image/png": "[encoded data removed]"
          },
          "metadata": {
            "needs_background": "light"
          }
        }
      ]
    },
    {
      "cell_type": "markdown",
      "source": [
        "### 2 Axis Chart"
      ],
      "metadata": {
        "id": "93O-ELulWBKt"
      }
    },
    {
      "cell_type": "code",
      "source": [
        "df1 = pd.pivot_table(df, index = \"origin\", values = \"name\", aggfunc = \"nunique\")\n",
        "df1"
      ],
      "metadata": {
        "colab": {
          "base_uri": "https://localhost:8080/",
          "height": 175
        },
        "id": "yoqs1IdHTC15",
        "outputId": "dae4dc8e-b5a0-4439-f573-19f5df0a7a62"
      },
      "execution_count": 86,
      "outputs": [
        {
          "output_type": "execute_result",
          "data": {
            "text/plain": [
              "        name\n",
              "origin      \n",
              "europe    58\n",
              "japan     60\n",
              "usa      187"
            ],
            "text/html": [
              "\n",
              "  <div id=\"df-5851753f-5d6b-49b2-92f2-bdbe96483735\">\n",
              "    <div class=\"colab-df-container\">\n",
              "      <div>\n",
              "<style scoped>\n",
              "    .dataframe tbody tr th:only-of-type {\n",
              "        vertical-align: middle;\n",
              "    }\n",
              "\n",
              "    .dataframe tbody tr th {\n",
              "        vertical-align: top;\n",
              "    }\n",
              "\n",
              "    .dataframe thead th {\n",
              "        text-align: right;\n",
              "    }\n",
              "</style>\n",
              "<table border=\"1\" class=\"dataframe\">\n",
              "  <thead>\n",
              "    <tr style=\"text-align: right;\">\n",
              "      <th></th>\n",
              "      <th>name</th>\n",
              "    </tr>\n",
              "    <tr>\n",
              "      <th>origin</th>\n",
              "      <th></th>\n",
              "    </tr>\n",
              "  </thead>\n",
              "  <tbody>\n",
              "    <tr>\n",
              "      <th>europe</th>\n",
              "      <td>58</td>\n",
              "    </tr>\n",
              "    <tr>\n",
              "      <th>japan</th>\n",
              "      <td>60</td>\n",
              "    </tr>\n",
              "    <tr>\n",
              "      <th>usa</th>\n",
              "      <td>187</td>\n",
              "    </tr>\n",
              "  </tbody>\n",
              "</table>\n",
              "</div>\n",
              "      <button class=\"colab-df-convert\" onclick=\"convertToInteractive('df-5851753f-5d6b-49b2-92f2-bdbe96483735')\"\n",
              "              title=\"Convert this dataframe to an interactive table.\"\n",
              "              style=\"display:none;\">\n",
              "        \n",
              "  <svg xmlns=\"http://www.w3.org/2000/svg\" height=\"24px\"viewBox=\"0 0 24 24\"\n",
              "       width=\"24px\">\n",
              "    <path d=\"M0 0h24v24H0V0z\" fill=\"none\"/>\n",
              "    <path d=\"M18.56 5.44l.94 2.06.94-2.06 2.06-.94-2.06-.94-.94-2.06-.94 2.06-2.06.94zm-11 1L8.5 8.5l.94-2.06 2.06-.94-2.06-.94L8.5 2.5l-.94 2.06-2.06.94zm10 10l.94 2.06.94-2.06 2.06-.94-2.06-.94-.94-2.06-.94 2.06-2.06.94z\"/><path d=\"M17.41 7.96l-1.37-1.37c-.4-.4-.92-.59-1.43-.59-.52 0-1.04.2-1.43.59L10.3 9.45l-7.72 7.72c-.78.78-.78 2.05 0 2.83L4 21.41c.39.39.9.59 1.41.59.51 0 1.02-.2 1.41-.59l7.78-7.78 2.81-2.81c.8-.78.8-2.07 0-2.86zM5.41 20L4 18.59l7.72-7.72 1.47 1.35L5.41 20z\"/>\n",
              "  </svg>\n",
              "      </button>\n",
              "      \n",
              "  <style>\n",
              "    .colab-df-container {\n",
              "      display:flex;\n",
              "      flex-wrap:wrap;\n",
              "      gap: 12px;\n",
              "    }\n",
              "\n",
              "    .colab-df-convert {\n",
              "      background-color: #E8F0FE;\n",
              "      border: none;\n",
              "      border-radius: 50%;\n",
              "      cursor: pointer;\n",
              "      display: none;\n",
              "      fill: #1967D2;\n",
              "      height: 32px;\n",
              "      padding: 0 0 0 0;\n",
              "      width: 32px;\n",
              "    }\n",
              "\n",
              "    .colab-df-convert:hover {\n",
              "      background-color: #E2EBFA;\n",
              "      box-shadow: 0px 1px 2px rgba(60, 64, 67, 0.3), 0px 1px 3px 1px rgba(60, 64, 67, 0.15);\n",
              "      fill: #174EA6;\n",
              "    }\n",
              "\n",
              "    [theme=dark] .colab-df-convert {\n",
              "      background-color: #3B4455;\n",
              "      fill: #D2E3FC;\n",
              "    }\n",
              "\n",
              "    [theme=dark] .colab-df-convert:hover {\n",
              "      background-color: #434B5C;\n",
              "      box-shadow: 0px 1px 3px 1px rgba(0, 0, 0, 0.15);\n",
              "      filter: drop-shadow(0px 1px 2px rgba(0, 0, 0, 0.3));\n",
              "      fill: #FFFFFF;\n",
              "    }\n",
              "  </style>\n",
              "\n",
              "      <script>\n",
              "        const buttonEl =\n",
              "          document.querySelector('#df-5851753f-5d6b-49b2-92f2-bdbe96483735 button.colab-df-convert');\n",
              "        buttonEl.style.display =\n",
              "          google.colab.kernel.accessAllowed ? 'block' : 'none';\n",
              "\n",
              "        async function convertToInteractive(key) {\n",
              "          const element = document.querySelector('#df-5851753f-5d6b-49b2-92f2-bdbe96483735');\n",
              "          const dataTable =\n",
              "            await google.colab.kernel.invokeFunction('convertToInteractive',\n",
              "                                                     [key], {});\n",
              "          if (!dataTable) return;\n",
              "\n",
              "          const docLinkHtml = 'Like what you see? Visit the ' +\n",
              "            '<a target=\"_blank\" href=https://colab.research.google.com/notebooks/data_table.ipynb>data table notebook</a>'\n",
              "            + ' to learn more about interactive tables.';\n",
              "          element.innerHTML = '';\n",
              "          dataTable['output_type'] = 'display_data';\n",
              "          await google.colab.output.renderOutput(dataTable, element);\n",
              "          const docLink = document.createElement('div');\n",
              "          docLink.innerHTML = docLinkHtml;\n",
              "          element.appendChild(docLink);\n",
              "        }\n",
              "      </script>\n",
              "    </div>\n",
              "  </div>\n",
              "  "
            ]
          },
          "metadata": {},
          "execution_count": 86
        }
      ]
    },
    {
      "cell_type": "code",
      "source": [
        "df2 = pd.pivot_table(df, index = \"origin\", values = \"mpg\", aggfunc = \"mean\")\n",
        "df2"
      ],
      "metadata": {
        "colab": {
          "base_uri": "https://localhost:8080/",
          "height": 175
        },
        "id": "3ZeGw-2CTXUS",
        "outputId": "12ecbc6a-ce1e-4a90-94c8-347b99f30124"
      },
      "execution_count": 87,
      "outputs": [
        {
          "output_type": "execute_result",
          "data": {
            "text/plain": [
              "              mpg\n",
              "origin           \n",
              "europe  27.891429\n",
              "japan   30.450633\n",
              "usa     20.083534"
            ],
            "text/html": [
              "\n",
              "  <div id=\"df-154a7a42-beef-4369-a7a4-40da371c3418\">\n",
              "    <div class=\"colab-df-container\">\n",
              "      <div>\n",
              "<style scoped>\n",
              "    .dataframe tbody tr th:only-of-type {\n",
              "        vertical-align: middle;\n",
              "    }\n",
              "\n",
              "    .dataframe tbody tr th {\n",
              "        vertical-align: top;\n",
              "    }\n",
              "\n",
              "    .dataframe thead th {\n",
              "        text-align: right;\n",
              "    }\n",
              "</style>\n",
              "<table border=\"1\" class=\"dataframe\">\n",
              "  <thead>\n",
              "    <tr style=\"text-align: right;\">\n",
              "      <th></th>\n",
              "      <th>mpg</th>\n",
              "    </tr>\n",
              "    <tr>\n",
              "      <th>origin</th>\n",
              "      <th></th>\n",
              "    </tr>\n",
              "  </thead>\n",
              "  <tbody>\n",
              "    <tr>\n",
              "      <th>europe</th>\n",
              "      <td>27.891429</td>\n",
              "    </tr>\n",
              "    <tr>\n",
              "      <th>japan</th>\n",
              "      <td>30.450633</td>\n",
              "    </tr>\n",
              "    <tr>\n",
              "      <th>usa</th>\n",
              "      <td>20.083534</td>\n",
              "    </tr>\n",
              "  </tbody>\n",
              "</table>\n",
              "</div>\n",
              "      <button class=\"colab-df-convert\" onclick=\"convertToInteractive('df-154a7a42-beef-4369-a7a4-40da371c3418')\"\n",
              "              title=\"Convert this dataframe to an interactive table.\"\n",
              "              style=\"display:none;\">\n",
              "        \n",
              "  <svg xmlns=\"http://www.w3.org/2000/svg\" height=\"24px\"viewBox=\"0 0 24 24\"\n",
              "       width=\"24px\">\n",
              "    <path d=\"M0 0h24v24H0V0z\" fill=\"none\"/>\n",
              "    <path d=\"M18.56 5.44l.94 2.06.94-2.06 2.06-.94-2.06-.94-.94-2.06-.94 2.06-2.06.94zm-11 1L8.5 8.5l.94-2.06 2.06-.94-2.06-.94L8.5 2.5l-.94 2.06-2.06.94zm10 10l.94 2.06.94-2.06 2.06-.94-2.06-.94-.94-2.06-.94 2.06-2.06.94z\"/><path d=\"M17.41 7.96l-1.37-1.37c-.4-.4-.92-.59-1.43-.59-.52 0-1.04.2-1.43.59L10.3 9.45l-7.72 7.72c-.78.78-.78 2.05 0 2.83L4 21.41c.39.39.9.59 1.41.59.51 0 1.02-.2 1.41-.59l7.78-7.78 2.81-2.81c.8-.78.8-2.07 0-2.86zM5.41 20L4 18.59l7.72-7.72 1.47 1.35L5.41 20z\"/>\n",
              "  </svg>\n",
              "      </button>\n",
              "      \n",
              "  <style>\n",
              "    .colab-df-container {\n",
              "      display:flex;\n",
              "      flex-wrap:wrap;\n",
              "      gap: 12px;\n",
              "    }\n",
              "\n",
              "    .colab-df-convert {\n",
              "      background-color: #E8F0FE;\n",
              "      border: none;\n",
              "      border-radius: 50%;\n",
              "      cursor: pointer;\n",
              "      display: none;\n",
              "      fill: #1967D2;\n",
              "      height: 32px;\n",
              "      padding: 0 0 0 0;\n",
              "      width: 32px;\n",
              "    }\n",
              "\n",
              "    .colab-df-convert:hover {\n",
              "      background-color: #E2EBFA;\n",
              "      box-shadow: 0px 1px 2px rgba(60, 64, 67, 0.3), 0px 1px 3px 1px rgba(60, 64, 67, 0.15);\n",
              "      fill: #174EA6;\n",
              "    }\n",
              "\n",
              "    [theme=dark] .colab-df-convert {\n",
              "      background-color: #3B4455;\n",
              "      fill: #D2E3FC;\n",
              "    }\n",
              "\n",
              "    [theme=dark] .colab-df-convert:hover {\n",
              "      background-color: #434B5C;\n",
              "      box-shadow: 0px 1px 3px 1px rgba(0, 0, 0, 0.15);\n",
              "      filter: drop-shadow(0px 1px 2px rgba(0, 0, 0, 0.3));\n",
              "      fill: #FFFFFF;\n",
              "    }\n",
              "  </style>\n",
              "\n",
              "      <script>\n",
              "        const buttonEl =\n",
              "          document.querySelector('#df-154a7a42-beef-4369-a7a4-40da371c3418 button.colab-df-convert');\n",
              "        buttonEl.style.display =\n",
              "          google.colab.kernel.accessAllowed ? 'block' : 'none';\n",
              "\n",
              "        async function convertToInteractive(key) {\n",
              "          const element = document.querySelector('#df-154a7a42-beef-4369-a7a4-40da371c3418');\n",
              "          const dataTable =\n",
              "            await google.colab.kernel.invokeFunction('convertToInteractive',\n",
              "                                                     [key], {});\n",
              "          if (!dataTable) return;\n",
              "\n",
              "          const docLinkHtml = 'Like what you see? Visit the ' +\n",
              "            '<a target=\"_blank\" href=https://colab.research.google.com/notebooks/data_table.ipynb>data table notebook</a>'\n",
              "            + ' to learn more about interactive tables.';\n",
              "          element.innerHTML = '';\n",
              "          dataTable['output_type'] = 'display_data';\n",
              "          await google.colab.output.renderOutput(dataTable, element);\n",
              "          const docLink = document.createElement('div');\n",
              "          docLink.innerHTML = docLinkHtml;\n",
              "          element.appendChild(docLink);\n",
              "        }\n",
              "      </script>\n",
              "    </div>\n",
              "  </div>\n",
              "  "
            ]
          },
          "metadata": {},
          "execution_count": 87
        }
      ]
    },
    {
      "cell_type": "code",
      "source": [
        "import matplotlib.pyplot as plt\n",
        "# Create matplotlib figure\n",
        "fig = plt.figure() \n",
        "\n",
        "# Create matplotlib axes\n",
        "ax = fig.add_subplot() \n",
        "ax2 = ax.twinx()\n",
        "\n",
        "# Plot the data\n",
        "df1['name'].plot(kind='bar', color='tab:blue', ax=ax)\n",
        "df2['mpg'].plot(kind='line', color='tab:orange', ax=ax2)\n",
        "\n",
        "# Styling\n",
        "ax.set_ylabel('Total Models')\n",
        "ax2.set_ylabel('Avg. MPG')\n",
        "ax2.set_ylim(bottom = 0)\n",
        "ax.yaxis.label.set_color('tab:blue')\n",
        "ax2.yaxis.label.set_color('tab:orange') \n",
        "plt.show()"
      ],
      "metadata": {
        "colab": {
          "base_uri": "https://localhost:8080/",
          "height": 304
        },
        "id": "6QbxAK1ES0ac",
        "outputId": "cc5a4a72-705d-424e-9d27-19e8bcc1143b"
      },
      "execution_count": 88,
      "outputs": [
        {
          "output_type": "display_data",
          "data": {
            "text/plain": [
              "<Figure size 432x288 with 2 Axes>"
            ],
            "image/png": "[encoded data removed]"
          },
          "metadata": {
            "needs_background": "light"
          }
        }
      ]
    },
    {
      "cell_type": "markdown",
      "source": [
        "## Relationships"
      ],
      "metadata": {
        "id": "d7g5qlpd-bxQ"
      }
    },
    {
      "cell_type": "markdown",
      "source": [
        "### Two numerical variables"
      ],
      "metadata": {
        "id": "K2alrb7qQfKQ"
      }
    },
    {
      "cell_type": "code",
      "source": [
        "# https://pandas.pydata.org/pandas-docs/version/0.25.0/reference/api/pandas.DataFrame.plot.scatter.html\n",
        "df.plot.scatter(x='mpg', y='weight', c='DarkBlue')"
      ],
      "metadata": {
        "colab": {
          "base_uri": "https://localhost:8080/",
          "height": 296
        },
        "id": "qF0mD35eSd2u",
        "outputId": "02c9b1a7-f0af-4103-f959-8d2add9fe377"
      },
      "execution_count": 89,
      "outputs": [
        {
          "output_type": "execute_result",
          "data": {
            "text/plain": [
              "<matplotlib.axes._subplots.AxesSubplot at 0x7f76059ce670>"
            ]
          },
          "metadata": {},
          "execution_count": 89
        },
        {
          "output_type": "display_data",
          "data": {
            "text/plain": [
              "<Figure size 432x288 with 1 Axes>"
            ],
            "image/png": "[encoded data removed]"
          },
          "metadata": {
            "needs_background": "light"
          }
        }
      ]
    },
    {
      "cell_type": "markdown",
      "source": [
        "### Two Numeric + 1 Categorical Variable"
      ],
      "metadata": {
        "id": "a-xYm9LMYP74"
      }
    },
    {
      "cell_type": "markdown",
      "source": [
        "Color Mapping"
      ],
      "metadata": {
        "id": "CaXLZfjkYM2g"
      }
    },
    {
      "cell_type": "code",
      "source": [
        "# Custom colors\n",
        "colors = {'europe':'blue', 'usa':'red', 'japan':'green'}\n",
        "df.plot.scatter(x='mpg', y='weight', c=df['origin'].map(colors))"
      ],
      "metadata": {
        "colab": {
          "base_uri": "https://localhost:8080/",
          "height": 296
        },
        "id": "v1_E2ckrSrMp",
        "outputId": "da022fa1-d325-401e-bbcd-80e3d12a692a"
      },
      "execution_count": 90,
      "outputs": [
        {
          "output_type": "execute_result",
          "data": {
            "text/plain": [
              "<matplotlib.axes._subplots.AxesSubplot at 0x7f7605c07460>"
            ]
          },
          "metadata": {},
          "execution_count": 90
        },
        {
          "output_type": "display_data",
          "data": {
            "text/plain": [
              "<Figure size 432x288 with 1 Axes>"
            ],
            "image/png": "[encoded data removed]"
          },
          "metadata": {
            "needs_background": "light"
          }
        }
      ]
    },
    {
      "cell_type": "markdown",
      "source": [
        "Automatic color mapping for lots of categories"
      ],
      "metadata": {
        "id": "sTwd8M0nYJPi"
      }
    },
    {
      "cell_type": "code",
      "source": [
        "# colormaps: https://matplotlib.org/stable/tutorials/colors/colormaps.html\n",
        "colors = pd.factorize(df['origin'])[0]\n",
        "df.plot.scatter(x='mpg', y='weight', c=colors, colormap = \"Paired\")"
      ],
      "metadata": {
        "colab": {
          "base_uri": "https://localhost:8080/",
          "height": 275
        },
        "id": "eXdy8WHUThYW",
        "outputId": "fdaf5c1c-9653-4676-8f44-981e880ea107"
      },
      "execution_count": 91,
      "outputs": [
        {
          "output_type": "execute_result",
          "data": {
            "text/plain": [
              "<matplotlib.axes._subplots.AxesSubplot at 0x7f7605858880>"
            ]
          },
          "metadata": {},
          "execution_count": 91
        },
        {
          "output_type": "display_data",
          "data": {
            "text/plain": [
              "<Figure size 432x288 with 2 Axes>"
            ],
            "image/png": "[encoded data removed]"
          },
          "metadata": {
            "needs_background": "light"
          }
        }
      ]
    },
    {
      "cell_type": "markdown",
      "source": [
        "Automatic color mapping with labels"
      ],
      "metadata": {
        "id": "VlfwWJOIYT-M"
      }
    },
    {
      "cell_type": "code",
      "source": [
        "import matplotlib.pyplot as plt\n",
        "import numpy as np\n",
        "\n",
        "# specify the categorical column\n",
        "cat_column_encoded, cat_column_categories = df['origin'].factorize()\n",
        "\n",
        "# create a scatter plot with a colormap based on the categorical column\n",
        "plt.scatter(x=df['mpg'], y=df['weight'], c=cat_column_encoded, cmap='Paired')\n",
        "\n",
        "# add a colorbar to the plot\n",
        "cb = plt.colorbar()\n",
        "cb.set_ticks(np.arange(len(cat_column_categories)))\n",
        "cb.set_ticklabels(cat_column_categories)\n",
        "\n",
        "# show the plot\n",
        "plt.show()\n",
        "\n",
        "# -> easier done in seaborn"
      ],
      "metadata": {
        "colab": {
          "base_uri": "https://localhost:8080/",
          "height": 269
        },
        "id": "RJGiBFUIYTPT",
        "outputId": "b879ccd9-f6a9-46a9-c47d-6e9d0d0b41d1"
      },
      "execution_count": 92,
      "outputs": [
        {
          "output_type": "display_data",
          "data": {
            "text/plain": [
              "<Figure size 432x288 with 2 Axes>"
            ],
            "image/png": "[encoded data removed]"
          },
          "metadata": {
            "needs_background": "light"
          }
        }
      ]
    },
    {
      "cell_type": "markdown",
      "source": [
        "### Time series"
      ],
      "metadata": {
        "id": "Yg0D3uCs1e-c"
      }
    },
    {
      "cell_type": "markdown",
      "source": [
        "Line charts"
      ],
      "metadata": {
        "id": "YYSfkFGbQn5W"
      }
    },
    {
      "cell_type": "code",
      "source": [
        "(pd\n",
        ".pivot_table(df, index = ['model_year'], values = ['mpg'], aggfunc = 'mean')\n",
        ".plot\n",
        ".line())"
      ],
      "metadata": {
        "colab": {
          "base_uri": "https://localhost:8080/",
          "height": 297
        },
        "id": "K5lxsueU1gEf",
        "outputId": "049bcf83-81f8-46e4-94e0-35caac473f0e"
      },
      "execution_count": 93,
      "outputs": [
        {
          "output_type": "execute_result",
          "data": {
            "text/plain": [
              "<matplotlib.axes._subplots.AxesSubplot at 0x7f7604ef4b50>"
            ]
          },
          "metadata": {},
          "execution_count": 93
        },
        {
          "output_type": "display_data",
          "data": {
            "text/plain": [
              "<Figure size 432x288 with 1 Axes>"
            ],
            "image/png": "[encoded data removed]"
          },
          "metadata": {
            "needs_background": "light"
          }
        }
      ]
    },
    {
      "cell_type": "markdown",
      "source": [
        "Multi Line Charts"
      ],
      "metadata": {
        "id": "LXiDgP4qYaOM"
      }
    },
    {
      "cell_type": "code",
      "source": [
        "(pd\n",
        ".pivot_table(df, index = ['model_year'], values = ['mpg', 'horsepower'], aggfunc = 'mean')\n",
        ".plot\n",
        ".line())"
      ],
      "metadata": {
        "colab": {
          "base_uri": "https://localhost:8080/",
          "height": 297
        },
        "id": "L1Kpztjp2tEm",
        "outputId": "af622af8-c24b-491c-b2de-2e952245db67"
      },
      "execution_count": 94,
      "outputs": [
        {
          "output_type": "execute_result",
          "data": {
            "text/plain": [
              "<matplotlib.axes._subplots.AxesSubplot at 0x7f7604ddcf10>"
            ]
          },
          "metadata": {},
          "execution_count": 94
        },
        {
          "output_type": "display_data",
          "data": {
            "text/plain": [
              "<Figure size 432x288 with 1 Axes>"
            ],
            "image/png": "[encoded data removed]"
          },
          "metadata": {
            "needs_background": "light"
          }
        }
      ]
    },
    {
      "cell_type": "markdown",
      "source": [
        "Multi line charts (2 axes)"
      ],
      "metadata": {
        "id": "Rx8a2_vSYeSV"
      }
    },
    {
      "cell_type": "code",
      "source": [
        "fig, ax = plt.subplots() \n",
        "pivot = pd.pivot_table(df, index = ['model_year'], values = ['mpg', 'horsepower'], aggfunc = 'mean').reset_index()\n",
        "pivot.plot(x = 'model_year', y = 'mpg', ax = ax) \n",
        "pivot.plot(x = 'model_year', y = 'horsepower', ax = ax, secondary_y = True) "
      ],
      "metadata": {
        "colab": {
          "base_uri": "https://localhost:8080/",
          "height": 297
        },
        "id": "F66a_hoN4x-G",
        "outputId": "d24dd314-4e5e-427f-c161-3ce0ab5f04ca"
      },
      "execution_count": 95,
      "outputs": [
        {
          "output_type": "execute_result",
          "data": {
            "text/plain": [
              "<matplotlib.axes._subplots.AxesSubplot at 0x7f76056dcfa0>"
            ]
          },
          "metadata": {},
          "execution_count": 95
        },
        {
          "output_type": "display_data",
          "data": {
            "text/plain": [
              "<Figure size 432x288 with 2 Axes>"
            ],
            "image/png": "[encoded data removed]"
          },
          "metadata": {
            "needs_background": "light"
          }
        }
      ]
    }
  ]
}